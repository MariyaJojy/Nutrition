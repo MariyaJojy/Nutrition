{
 "cells": [
  {
   "cell_type": "code",
   "execution_count": null,
   "metadata": {},
   "outputs": [],
   "source": [
    "import pandas as pd\n",
    "dat=pd.read_csv(\"nutri.csv\")\n",
    "dat=dat.loc[:,['NDB_No','Shrt_Desc','Protein_(g)','Lipid_Tot_(g)','Carbohydrt_(g)','Fiber_TD_(g)','Sugar_Tot_(g)']]\n",
    "dat.rename(columns = {'NDB_No':'ID','Shrt_Desc':'Food','Protein_(g)':'Protein','Lipid_Tot_(g)':'Fat','Carbohydrt_(g)':'Carbohydrate','Fiber_TD_(g)':'Fiber','Sugar_Tot_(g)':'Sugar'}, inplace = True)\n",
    "dat=dat.fillna(0)\n",
    "\n",
    "import matplotlib.pyplot as plt\n",
    "import statistics\n",
    "def new(b):\n",
    " labels='Protein','Fat','Carbohydrate','Fiber','Sugar'\n",
    " sizes=[statistics.mean(dat.Protein[b]),statistics.mean(dat.Fat[b]),statistics.mean(dat.Carbohydrate[b]),statistics.mean(dat.Fiber[b]),statistics.mean(dat.Sugar[b])]\n",
    " colors = ['gold', 'yellowgreen', 'lightcoral', 'lightskyblue','red']\n",
    " explode = (0, 0, 0, 0,0)\n",
    " fig, ax1 = plt.subplots(figsize = (24,12)) \n",
    " ax1.pie(sizes, labels=labels,explode = explode, colors=colors, startangle=90, autopct='%1.1f%%', shadow = True) \n",
    " plt.title(\"Nutritional value pie chart\", fontsize = 24) \n",
    " ax1.legend(labels, loc = \"upper right\") \n",
    " plt.tight_layout() \n",
    " plt.show()\n",
    " return\n",
    "\n",
    "a = list()\n",
    "num = input(\"Enter how many items: \")\n",
    "print (\"Enter the items' ID\")\n",
    "for i in range(int(num)):\n",
    "    no = input(\"item ID %s : \" %i)\n",
    "    a.append(int(no))\n",
    "    \n",
    "    \n",
    "b=[0]*len(a)\n",
    "for x in range(len(a)):\n",
    "  n= dat.index[dat['ID'] == a[x]].tolist()\n",
    "  b[x]=n[0]\n",
    "\n",
    "new(b)"
   ]
  }
 ],
 "metadata": {
  "kernelspec": {
   "display_name": "Python 3",
   "language": "python",
   "name": "python3"
  },
  "language_info": {
   "codemirror_mode": {
    "name": "ipython",
    "version": 3
   },
   "file_extension": ".py",
   "mimetype": "text/x-python",
   "name": "python",
   "nbconvert_exporter": "python",
   "pygments_lexer": "ipython3",
   "version": "3.7.4"
  }
 },
 "nbformat": 4,
 "nbformat_minor": 2
}
